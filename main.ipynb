{
 "cells": [
  {
   "cell_type": "code",
   "execution_count": 2,
   "metadata": {},
   "outputs": [],
   "source": [
    "from tools.web_search import SearchTool"
   ]
  },
  {
   "cell_type": "code",
   "execution_count": 7,
   "metadata": {},
   "outputs": [],
   "source": [
    "from tools.file_system_utils.folder import BasicFolder\n",
    "\n",
    "folder = BasicFolder('hi')\n",
    "folder.make()"
   ]
  },
  {
   "cell_type": "code",
   "execution_count": 1,
   "metadata": {},
   "outputs": [
    {
     "name": "stdout",
     "output_type": "stream",
     "text": [
      "{0: 'test.py', 1: 'folder/test2.py'}\n"
     ]
    },
    {
     "data": {
      "text/plain": [
       "'Here are the files available: 0 test.py, 1 folder/test2.py. Say the index number of the link you would like to write to.'"
      ]
     },
     "execution_count": 1,
     "metadata": {},
     "output_type": "execute_result"
    }
   ],
   "source": [
    "from tools.apfile import AppendFile\n",
    "apfile = AppendFile()\n",
    "x = apfile.list_files(directory='builds')\n",
    "apfile.run('APPEND FILE')"
   ]
  },
  {
   "cell_type": "code",
   "execution_count": 2,
   "metadata": {},
   "outputs": [
    {
     "data": {
      "text/plain": [
       "\"You have selected to append to folder/test2.py. Send me exactly what to put in this file within triple quotes: '''YOUR_RESPONSE_HERE'''. Use \\\\n for new lines and \\\\t for tabs.\""
      ]
     },
     "execution_count": 2,
     "metadata": {},
     "output_type": "execute_result"
    }
   ],
   "source": [
    "apfile.run('1')"
   ]
  },
  {
   "cell_type": "code",
   "execution_count": 3,
   "metadata": {},
   "outputs": [
    {
     "data": {
      "text/plain": [
       "'You have successfully written to the file. You are now exiting APPEND FILE.'"
      ]
     },
     "execution_count": 3,
     "metadata": {},
     "output_type": "execute_result"
    }
   ],
   "source": [
    "apfile.run('\\'\\'\\'Hi\\'\\'\\'')"
   ]
  },
  {
   "cell_type": "code",
   "execution_count": 3,
   "metadata": {},
   "outputs": [
    {
     "name": "stdout",
     "output_type": "stream",
     "text": [
      "What would you like to search?\n"
     ]
    }
   ],
   "source": [
    "print(websearch.run('SEARCH'))"
   ]
  },
  {
   "cell_type": "code",
   "execution_count": 4,
   "metadata": {},
   "outputs": [
    {
     "name": "stdout",
     "output_type": "stream",
     "text": [
      "Here are the links to your search result: 0 https://www.python.org/, 1 https://www.python.org/downloads/, 2 https://www.python.org/about/gettingstarted/, 3 https://docs.python.org/3/tutorial/index.html, 4 https://www.python.org/about/, 5 https://en.wikipedia.org/wiki/Python_(programming_language), 6 https://www.w3schools.com/python/, 7 https://www.w3schools.com/python/python_intro.asp, 8 https://www.codecademy.com/catalog/language/python, 9 https://en.wikipedia.org/wiki/Pythonidae, 10 https://en.wikipedia.org/wiki/Python_(programming_language), 11 https://www.learnpython.org/, 12 https://www.coursera.org/articles/what-is-python-used-for-a-beginners-guide-to-using-python, 13 https://support.google.com/websearch?p=ws_settings_location&hl=en, 14 https://accounts.google.com/ServiceLogin?continue=https://www.google.com/search%3Fq%3DPython%26start%3D0&hl=en. Say the index number of the link you would like to open.\n"
     ]
    }
   ],
   "source": [
    "print(websearch.run('Python'))"
   ]
  },
  {
   "cell_type": "code",
   "execution_count": 5,
   "metadata": {},
   "outputs": [
    {
     "ename": "AttributeError",
     "evalue": "'SearchTool' object has no attribute 'webpagebody'",
     "output_type": "error",
     "traceback": [
      "\u001b[1;31m---------------------------------------------------------------------------\u001b[0m",
      "\u001b[1;31mAttributeError\u001b[0m                            Traceback (most recent call last)",
      "\u001b[1;32mc:\\Users\\19105\\Documents\\githubPersonal\\AO\\main.ipynb Cell 5\u001b[0m line \u001b[0;36m<cell line: 1>\u001b[1;34m()\u001b[0m\n\u001b[1;32m----> <a href='vscode-notebook-cell:/c%3A/Users/19105/Documents/githubPersonal/AO/main.ipynb#X26sZmlsZQ%3D%3D?line=0'>1</a>\u001b[0m \u001b[39mstr\u001b[39m(websearch\u001b[39m.\u001b[39;49mwebpagebody)[:\u001b[39m20\u001b[39m]\n",
      "\u001b[1;31mAttributeError\u001b[0m: 'SearchTool' object has no attribute 'webpagebody'"
     ]
    }
   ],
   "source": [
    "str(websearch.webpagebody)[:20]"
   ]
  },
  {
   "cell_type": "code",
   "execution_count": 6,
   "metadata": {},
   "outputs": [
    {
     "name": "stdout",
     "output_type": "stream",
     "text": [
      "Here is the result of your search: \n",
      "\n",
      "\n",
      "Notice: While Jav. You are now exiting SEARCH.\n"
     ]
    }
   ],
   "source": [
    "print(websearch.run('1'))"
   ]
  },
  {
   "cell_type": "code",
   "execution_count": 7,
   "metadata": {},
   "outputs": [],
   "source": [
    "from llms.chatgpt35turbo.chatgpt35turbo import ChatGPT35Turbo\n"
   ]
  },
  {
   "cell_type": "code",
   "execution_count": 2,
   "metadata": {},
   "outputs": [],
   "source": [
    "def load_file_as_string(file_path):\n",
    "    with open(file_path, 'r') as file:\n",
    "        content = file.read()\n",
    "        # Replace newlines with empty string\n",
    "        content_without_newlines = content.replace('\\n', '')\n",
    "    return content_without_newlines\n",
    "\n",
    "file_path = 'prompts/manager.txt'  # Replace with your file path\n",
    "manager_role = load_file_as_string(file_path)"
   ]
  },
  {
   "cell_type": "code",
   "execution_count": 1,
   "metadata": {},
   "outputs": [
    {
     "name": "stdout",
     "output_type": "stream",
     "text": [
      " To perform an internet search, say SEARCH.\n",
      " To make a file, say MAKE FILE.\n",
      " To make a folder, say MAKE FOLDER\n",
      " To write to a file, say APPEND FILE.\n",
      "You are a helpful assistant! You are an agent with tools to help you accomplish your tasks. Simply respond in ALL CAPS based on the instructions that follow to use your tool. When you use a tool, you will talk to another computer. Once talking to this computer, you cannot talk to the outside world. You must make all the decisions yourself. Here are the tools you have available: \n",
      "1  To perform an internet search, say SEARCH.\n",
      "2  To make a file, say MAKE FILE.\n",
      "3  To make a folder, say MAKE FOLDER\n",
      "4  To write to a file, say APPEND FILE.\n",
      "Hello, my name is Christian.\n",
      "None\n",
      "None\n",
      "None\n",
      "None\n",
      "Hello Christian! How can I assist you today?\n"
     ]
    }
   ],
   "source": [
    "from agents.auto import Auto\n",
    "from tools.web_search import SearchTool\n",
    "from tools.mkfile import MakeFile\n",
    "from tools.mkdir import MakeDir\n",
    "from tools.apfile import AppendFile\n",
    "from dotenv import load_dotenv\n",
    "load_dotenv()\n",
    "\n",
    "tool_kit = [\n",
    "    SearchTool(),\n",
    "    MakeFile(),\n",
    "    MakeDir(),\n",
    "    AppendFile()\n",
    "]\n",
    "\n",
    "agent = Auto(identifier = 'chatgpt35turbo', system_prompt_dir = 'prompts/agent.txt', recipients = ['User'], tools = tool_kit)\n",
    "agent.initialize()\n",
    "response = agent.run('Hello, my name is Christian.')"
   ]
  },
  {
   "cell_type": "code",
   "execution_count": 2,
   "metadata": {},
   "outputs": [
    {
     "name": "stdout",
     "output_type": "stream",
     "text": [
      "Make a file named: Hello.py\n",
      "None\n",
      "None\n",
      "None\n",
      "None\n",
      "Sure, I can help you with that. Please give me a moment to create the file for you.\n"
     ]
    }
   ],
   "source": [
    "agent.run('Make a file named: Hello.py')"
   ]
  },
  {
   "cell_type": "code",
   "execution_count": 3,
   "metadata": {},
   "outputs": [
    {
     "name": "stdout",
     "output_type": "stream",
     "text": [
      "No, you were supposed to use one of the tools you have. \n",
      "None\n",
      "None\n",
      "None\n",
      "None\n",
      "Apologies for the confusion. I can use the \"MAKE FILE\" tool to create the \"Hello.py\" file for you. Please give me a moment to create it.\n"
     ]
    }
   ],
   "source": [
    "agent.run('No, you were supposed to use one of the tools you have. ')"
   ]
  },
  {
   "cell_type": "code",
   "execution_count": 4,
   "metadata": {},
   "outputs": [
    {
     "name": "stdout",
     "output_type": "stream",
     "text": [
      "check\n",
      "None\n",
      "Which type of file would you like to make: txt, py? Put your answer in triple single quotes: '''YOUR_TYPE_HERE'''\n",
      "None\n",
      "None\n",
      "'''py'''\n"
     ]
    }
   ],
   "source": [
    "agent.run('check')"
   ]
  },
  {
   "cell_type": "code",
   "execution_count": 5,
   "metadata": {},
   "outputs": [
    {
     "name": "stdout",
     "output_type": "stream",
     "text": [
      "check\n",
      "None\n",
      "You have selected py. Give me exactly what to name the file in between triple single quotes: '''YOUR_NAME_HERE'''\n",
      "None\n",
      "None\n",
      "'''Hello.py'''\n"
     ]
    }
   ],
   "source": [
    "agent.run('check')"
   ]
  },
  {
   "cell_type": "code",
   "execution_count": 6,
   "metadata": {},
   "outputs": [
    {
     "name": "stderr",
     "output_type": "stream",
     "text": [
      "INFO:tools.file_system_utils.base:File 'builds/Hello.py' successfully created at 'c:\\Users\\19105\\Documents\\githubPersonal\\AO'.\n"
     ]
    },
    {
     "name": "stdout",
     "output_type": "stream",
     "text": [
      "check\n",
      "None\n",
      "Your file has been made. You are now exiting MAKE FILE.\n",
      "None\n",
      "None\n",
      "Understood. If you need any further assistance, feel free to ask. Have a great day, Christian!\n"
     ]
    }
   ],
   "source": [
    "agent.run('check')"
   ]
  },
  {
   "cell_type": "code",
   "execution_count": 5,
   "metadata": {},
   "outputs": [
    {
     "name": "stdout",
     "output_type": "stream",
     "text": [
      "ok\n",
      "Great! I have created the text file for you. It is named \"assistant.txt\". Is there anything specific you would like me to write in this file?\n"
     ]
    }
   ],
   "source": [
    "agent.run('ok')"
   ]
  },
  {
   "cell_type": "code",
   "execution_count": 7,
   "metadata": {},
   "outputs": [
    {
     "name": "stdout",
     "output_type": "stream",
     "text": [
      "Did you find anything useful? My tool for you is not very good.\n",
      "If you are ready to switch to the Customer, say SWITCH TO CUSTOMER.\n",
      "SWITCH TO CUSTOMER\n"
     ]
    }
   ],
   "source": [
    "manager.run('Did you find anything useful? My tool for you is not very good.')"
   ]
  },
  {
   "cell_type": "code",
   "execution_count": 8,
   "metadata": {},
   "outputs": [
    {
     "name": "stdout",
     "output_type": "stream",
     "text": [
      "Did you find anything useful? My tool for you is not very good.\n",
      "If you are ready to switch to the Architect, say SWITCH TO ARCHITECT.\n",
      "I apologize for the inconvenience. Unfortunately, the search results did not provide any specific information related to your request. Could you please provide more details about the software you want built from scratch?\n"
     ]
    }
   ],
   "source": [
    "manager.run('Did you find anything useful? My tool for you is not very good.')"
   ]
  },
  {
   "cell_type": "code",
   "execution_count": 1,
   "metadata": {},
   "outputs": [
    {
     "name": "stdout",
     "output_type": "stream",
     "text": [
      "Which type of file would you like to make: txt, py? Put your answer in triple single quotes: '''YOUR_TYPE_HERE'''\n"
     ]
    }
   ],
   "source": [
    "from tools.mkfile import MakeFile\n",
    "mf = MakeFile()\n",
    "print(mf.run('MAKE FILE'))"
   ]
  },
  {
   "cell_type": "code",
   "execution_count": 4,
   "metadata": {},
   "outputs": [
    {
     "name": "stdout",
     "output_type": "stream",
     "text": [
      "You have selected txt. Give me exactly what to name the file in between triple single quotes: '''YOUR_NAME_HERE'''\n"
     ]
    }
   ],
   "source": [
    "print(mf.run('\\'\\'\\'txt\\'\\'\\''))"
   ]
  },
  {
   "cell_type": "code",
   "execution_count": 3,
   "metadata": {},
   "outputs": [
    {
     "name": "stdout",
     "output_type": "stream",
     "text": [
      "Your file has been made. You are now exiting MAKE FILE.\n"
     ]
    }
   ],
   "source": [
    "print(mf.run('\\'\\'\\'christian\\'\\'\\''))"
   ]
  },
  {
   "cell_type": "code",
   "execution_count": null,
   "metadata": {},
   "outputs": [],
   "source": []
  }
 ],
 "metadata": {
  "kernelspec": {
   "display_name": "base",
   "language": "python",
   "name": "python3"
  },
  "language_info": {
   "codemirror_mode": {
    "name": "ipython",
    "version": 3
   },
   "file_extension": ".py",
   "mimetype": "text/x-python",
   "name": "python",
   "nbconvert_exporter": "python",
   "pygments_lexer": "ipython3",
   "version": "3.9.12"
  }
 },
 "nbformat": 4,
 "nbformat_minor": 2
}
