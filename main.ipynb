{
 "cells": [
  {
   "cell_type": "code",
   "execution_count": 2,
   "metadata": {},
   "outputs": [],
   "source": [
    "from tools.web_search import SearchTool"
   ]
  },
  {
   "cell_type": "code",
   "execution_count": 5,
   "metadata": {},
   "outputs": [
    {
     "data": {
      "text/plain": [
       "str"
      ]
     },
     "execution_count": 5,
     "metadata": {},
     "output_type": "execute_result"
    }
   ],
   "source": [
    "type(websearch.command)"
   ]
  },
  {
   "cell_type": "code",
   "execution_count": 3,
   "metadata": {},
   "outputs": [
    {
     "name": "stdout",
     "output_type": "stream",
     "text": [
      "Ready\n"
     ]
    }
   ],
   "source": [
    "websearch = SearchTool()\n",
    "print(websearch.state)"
   ]
  },
  {
   "cell_type": "code",
   "execution_count": 3,
   "metadata": {},
   "outputs": [
    {
     "name": "stdout",
     "output_type": "stream",
     "text": [
      "What would you like to search?\n"
     ]
    }
   ],
   "source": [
    "print(websearch.run('SEARCH'))"
   ]
  },
  {
   "cell_type": "code",
   "execution_count": 4,
   "metadata": {},
   "outputs": [
    {
     "name": "stdout",
     "output_type": "stream",
     "text": [
      "Here are the links to your search result: 0 https://www.python.org/, 1 https://www.python.org/downloads/, 2 https://www.python.org/about/gettingstarted/, 3 https://docs.python.org/3/tutorial/index.html, 4 https://www.python.org/about/, 5 https://en.wikipedia.org/wiki/Python_(programming_language), 6 https://www.w3schools.com/python/, 7 https://www.w3schools.com/python/python_intro.asp, 8 https://www.codecademy.com/catalog/language/python, 9 https://en.wikipedia.org/wiki/Pythonidae, 10 https://en.wikipedia.org/wiki/Python_(programming_language), 11 https://www.learnpython.org/, 12 https://www.coursera.org/articles/what-is-python-used-for-a-beginners-guide-to-using-python, 13 https://support.google.com/websearch?p=ws_settings_location&hl=en, 14 https://accounts.google.com/ServiceLogin?continue=https://www.google.com/search%3Fq%3DPython%26start%3D0&hl=en. Say the index number of the link you would like to open.\n"
     ]
    }
   ],
   "source": [
    "print(websearch.run('Python'))"
   ]
  },
  {
   "cell_type": "code",
   "execution_count": 5,
   "metadata": {},
   "outputs": [
    {
     "ename": "AttributeError",
     "evalue": "'SearchTool' object has no attribute 'webpagebody'",
     "output_type": "error",
     "traceback": [
      "\u001b[1;31m---------------------------------------------------------------------------\u001b[0m",
      "\u001b[1;31mAttributeError\u001b[0m                            Traceback (most recent call last)",
      "\u001b[1;32mc:\\Users\\19105\\Documents\\githubPersonal\\AO\\main.ipynb Cell 5\u001b[0m line \u001b[0;36m<cell line: 1>\u001b[1;34m()\u001b[0m\n\u001b[1;32m----> <a href='vscode-notebook-cell:/c%3A/Users/19105/Documents/githubPersonal/AO/main.ipynb#X26sZmlsZQ%3D%3D?line=0'>1</a>\u001b[0m \u001b[39mstr\u001b[39m(websearch\u001b[39m.\u001b[39;49mwebpagebody)[:\u001b[39m20\u001b[39m]\n",
      "\u001b[1;31mAttributeError\u001b[0m: 'SearchTool' object has no attribute 'webpagebody'"
     ]
    }
   ],
   "source": [
    "str(websearch.webpagebody)[:20]"
   ]
  },
  {
   "cell_type": "code",
   "execution_count": 6,
   "metadata": {},
   "outputs": [
    {
     "name": "stdout",
     "output_type": "stream",
     "text": [
      "Here is the result of your search: \n",
      "\n",
      "\n",
      "Notice: While Jav. You are now exiting SEARCH.\n"
     ]
    }
   ],
   "source": [
    "print(websearch.run('1'))"
   ]
  },
  {
   "cell_type": "code",
   "execution_count": 7,
   "metadata": {},
   "outputs": [],
   "source": [
    "from llms.chatgpt35turbo.chatgpt35turbo import ChatGPT35Turbo\n"
   ]
  },
  {
   "cell_type": "code",
   "execution_count": 2,
   "metadata": {},
   "outputs": [],
   "source": [
    "def load_file_as_string(file_path):\n",
    "    with open(file_path, 'r') as file:\n",
    "        content = file.read()\n",
    "        # Replace newlines with empty string\n",
    "        content_without_newlines = content.replace('\\n', '')\n",
    "    return content_without_newlines\n",
    "\n",
    "file_path = 'prompts/manager.txt'  # Replace with your file path\n",
    "manager_role = load_file_as_string(file_path)"
   ]
  },
  {
   "cell_type": "code",
   "execution_count": 1,
   "metadata": {},
   "outputs": [
    {
     "name": "stdout",
     "output_type": "stream",
     "text": [
      " To perform an internet search, say SEARCH.\n",
      "You are roleplaying the manager of a software company, and your role is to liaise between a customer and your software architect. Be as minimal as possible in coversation.You can only have a one conversation at a time.You are the only entity that can communicate with the customer. Your first objective is to gather detailed requirements from the customer for the new software they want built from scratch. Then, summarize this information for your software architect, who will design the software's structure based on these details.If speaking with the Customer, say SWITCH TO SOFTWARE ARCHITECT if you are ready to change to the Software Architect.If speaking with the Software Architect, say SWITCH TO CUSTOMER if you are ready to change to the Customer. To switch to Customer, say SWITCH TO CUSTOMER. To switch to Architect, say SWITCH TO ARCHITECT. To perform an internet search, say SEARCH.\n",
      "Hello, my name is Christian.\n",
      "If you are ready to switch to the Architect, say SWITCH TO ARCHITECT.\n",
      "Hello Christian. Nice to meet you. Before we switch to the architect, I would like to gather some detailed requirements for the new software you want built from scratch. Can you please provide me with a brief description of the software you have in mind?\n"
     ]
    }
   ],
   "source": [
    "from agents.manager import Manager\n",
    "from tools.web_search import SearchTool\n",
    "from dotenv import load_dotenv\n",
    "load_dotenv()\n",
    "manager = Manager(identifier = 'chatgpt35turbo', system_prompt_dir = 'prompts/manager.txt', recipients = ['Customer','Architect'], tools = [SearchTool()])\n",
    "manager.initialize()\n",
    "manager.run('Hello, my name is Christian.')"
   ]
  },
  {
   "cell_type": "code",
   "execution_count": 2,
   "metadata": {},
   "outputs": [
    {
     "name": "stdout",
     "output_type": "stream",
     "text": [
      "I want you to run an internet search for Python right now!\n",
      "If you are ready to switch to the Architect, say SWITCH TO ARCHITECT.\n",
      "SEARCH\n"
     ]
    }
   ],
   "source": [
    "manager.run('I want you to run an internet search for Python right now!')"
   ]
  },
  {
   "cell_type": "code",
   "execution_count": 3,
   "metadata": {},
   "outputs": [
    {
     "name": "stdout",
     "output_type": "stream",
     "text": [
      "Give me exactly what to put in the search engine.\n"
     ]
    },
    {
     "name": "stderr",
     "output_type": "stream",
     "text": [
      "INFO:tools.search_engines.google_search:Searching Google with URL: https://www.google.com/search?q=SEARCH Python&start=0\n"
     ]
    },
    {
     "name": "stdout",
     "output_type": "stream",
     "text": [
      "SEARCH Python\n"
     ]
    }
   ],
   "source": [
    "manager.run('Basic message')"
   ]
  },
  {
   "cell_type": "code",
   "execution_count": 4,
   "metadata": {},
   "outputs": [
    {
     "name": "stdout",
     "output_type": "stream",
     "text": [
      "Here are the links to your search result: 0 https://www.w3schools.com/python/ref_string_find.asp, 1 https://docs.python.org/3/library/re.html, 2 https://www.python.org/search/, 3 https://www.guru99.com/python-regular-expressions-complete-tutorial.html, 4 https://www.tutorialspoint.com/what-is-the-search-function-in-python, 5 https://www.w3schools.com/python/python_regex.asp, 6 https://www.geeksforgeeks.org/python-string-find/, 7 https://developers.google.com/edu/python/regular-expressions, 8 https://www.scaler.com/topics/find-function-in-python/, 9 https://www.programiz.com/python-programming/methods/string/find, 10 https://support.google.com/websearch?p=ws_settings_location&hl=en, 11 https://accounts.google.com/ServiceLogin?continue=https://www.google.com/search%3Fq%3DSEARCH%2BPython%26start%3D0&hl=en. Say the index number of the link you would like to open.\n"
     ]
    },
    {
     "name": "stderr",
     "output_type": "stream",
     "text": [
      "INFO:tools.web_utils.web_search:Opening WebLink: https://docs.python.org/3/library/re.html\n",
      "INFO:tools.web_utils.web_search:Successfully retrieved https://docs.python.org/3/library/re.html\n"
     ]
    },
    {
     "name": "stdout",
     "output_type": "stream",
     "text": [
      "1\n"
     ]
    }
   ],
   "source": [
    "manager.run('Basic message')"
   ]
  },
  {
   "cell_type": "code",
   "execution_count": 5,
   "metadata": {},
   "outputs": [
    {
     "name": "stdout",
     "output_type": "stream",
     "text": [
      "Here is the result of your search: \n",
      "\n",
      "\n",
      "\n",
      "\n",
      "\n",
      "\n",
      "\n",
      "\n",
      "\n",
      "\n",
      "\n",
      "\n",
      "\n",
      "\n",
      "\n",
      "\n",
      "\n",
      "\n",
      "\n",
      ". You are now exiting SEARCH.\n",
      "Thank you for providing the search results. If you are ready to switch to the Architect, please say SWITCH TO ARCHITECT.\n"
     ]
    }
   ],
   "source": [
    "manager.run('Basic message')"
   ]
  },
  {
   "cell_type": "code",
   "execution_count": 7,
   "metadata": {},
   "outputs": [
    {
     "name": "stdout",
     "output_type": "stream",
     "text": [
      "Did you find anything useful? My tool for you is not very good.\n",
      "If you are ready to switch to the Customer, say SWITCH TO CUSTOMER.\n",
      "SWITCH TO CUSTOMER\n"
     ]
    }
   ],
   "source": [
    "manager.run('Did you find anything useful? My tool for you is not very good.')"
   ]
  },
  {
   "cell_type": "code",
   "execution_count": 8,
   "metadata": {},
   "outputs": [
    {
     "name": "stdout",
     "output_type": "stream",
     "text": [
      "Did you find anything useful? My tool for you is not very good.\n",
      "If you are ready to switch to the Architect, say SWITCH TO ARCHITECT.\n",
      "I apologize for the inconvenience. Unfortunately, the search results did not provide any specific information related to your request. Could you please provide more details about the software you want built from scratch?\n"
     ]
    }
   ],
   "source": [
    "manager.run('Did you find anything useful? My tool for you is not very good.')"
   ]
  },
  {
   "cell_type": "code",
   "execution_count": null,
   "metadata": {},
   "outputs": [],
   "source": []
  }
 ],
 "metadata": {
  "kernelspec": {
   "display_name": "base",
   "language": "python",
   "name": "python3"
  },
  "language_info": {
   "codemirror_mode": {
    "name": "ipython",
    "version": 3
   },
   "file_extension": ".py",
   "mimetype": "text/x-python",
   "name": "python",
   "nbconvert_exporter": "python",
   "pygments_lexer": "ipython3",
   "version": "3.9.12"
  }
 },
 "nbformat": 4,
 "nbformat_minor": 2
}
